{
 "cells": [
  {
   "cell_type": "code",
   "execution_count": 15,
   "metadata": {
    "collapsed": true
   },
   "outputs": [],
   "source": [
    "import numpy\n",
    "import matplotlib"
   ]
  },
  {
   "cell_type": "code",
   "execution_count": 16,
   "metadata": {
    "collapsed": false
   },
   "outputs": [],
   "source": [
    "def get_weights_k(weights, k, t, y, y_hat, eta):\n",
    "    if t == 0:\n",
    "        return numpy.random.uniform(0, 1, (3, 5))\n",
    "    else:\n",
    "        temp = eta * calc_lambda(k, r, delta)*y_hat*(1-y_hat)\n",
    "        return numpy.dot(temp, y)"
   ]
  },
  {
   "cell_type": "code",
   "execution_count": 17,
   "metadata": {
    "collapsed": true
   },
   "outputs": [],
   "source": [
    "def sigmoid(x):\n",
    "    sigmoid = 1/(1 + numpy.exp((-4 * x)))\n",
    "    return sigmoid"
   ]
  },
  {
   "cell_type": "code",
   "execution_count": 18,
   "metadata": {
    "collapsed": true
   },
   "outputs": [],
   "source": [
    "def seq_module(y, t, weights):\n",
    "    y = numpy.insert(y, 0, 1)\n",
    "    if t == 0:\n",
    "        y = numpy.insert(y, 4, 1)\n",
    "    else:\n",
    "        y = numpy.insert(y, 4, 0)\n",
    "    y_hat = sigmoid(numpy.dot(weights, y))\n",
    "    return (y_hat, t+1)"
   ]
  },
  {
   "cell_type": "markdown",
   "metadata": {},
   "source": [
    "Initializations"
   ]
  },
  {
   "cell_type": "code",
   "execution_count": 19,
   "metadata": {
    "collapsed": false
   },
   "outputs": [],
   "source": [
    "weights = numpy.random.uniform(-1, 1, (4, 3, 5))\n",
    "y = numpy.array([0, 0, 0])\n",
    "t = 0\n",
    "y_desired = numpy.array([[1, 0, 0], [0, 0, 1], [0, 1, 0]])\n",
    "alpha = 0.5"
   ]
  },
  {
   "cell_type": "code",
   "execution_count": 20,
   "metadata": {
    "collapsed": false
   },
   "outputs": [
    {
     "name": "stdout",
     "output_type": "stream",
     "text": [
      "[[ 0.73008397  0.57719746  0.00166994]\n",
      " [ 0.65569632  0.99152375  0.12806343]\n",
      " [ 0.04263435  0.19071392  0.05712254]\n",
      " [ 0.15647644  0.77607589  0.92622731]]\n"
     ]
    }
   ],
   "source": [
    "(y_hat, t) = seq_module(y, t, weights)\n",
    "print y_hat"
   ]
  },
  {
   "cell_type": "code",
   "execution_count": 27,
   "metadata": {
    "collapsed": false
   },
   "outputs": [],
   "source": [
    "def calc_lambda(k, t, delta):\n",
    "    p = calc_p(k, t)\n",
    "    p_k = 1\n",
    "    p_k_total = 1\n",
    "    p_total = 0\n",
    "    for i in range(delta):\n",
    "        p_k *= calc_p(k, t-i)\n",
    "    for i in range(4):\n",
    "        for j in range(delta):\n",
    "            p_k_total *= calc_p(i, t-j) \n",
    "        p_total += p_k_total\n",
    "    lambda_k = p_k/p_total\n",
    "    return lambda_k"
   ]
  },
  {
   "cell_type": "code",
   "execution_count": 22,
   "metadata": {
    "collapsed": true
   },
   "outputs": [],
   "source": [
    "def calc_p(k, t):\n",
    "    if t <= 0:\n",
    "        return 0.25\n",
    "    else:\n",
    "        return numpy.exp(-E(k, t)[1]/calc_sigma(alpha, t)**2)"
   ]
  },
  {
   "cell_type": "code",
   "execution_count": 23,
   "metadata": {
    "collapsed": true
   },
   "outputs": [],
   "source": [
    "def E(k, t):\n",
    "    error = y_desired[t] - y_hat[k]\n",
    "    error_sum = (0.5) * (numpy.sum(error)**2)\n",
    "    return (error, error_sum)"
   ]
  },
  {
   "cell_type": "code",
   "execution_count": 24,
   "metadata": {
    "collapsed": false
   },
   "outputs": [],
   "source": [
    "def calc_sigma(alpha, t):\n",
    "    error = list()\n",
    "    sum_part = 0\n",
    "    if t == 0:\n",
    "        return 3\n",
    "    else:\n",
    "        for i in range(4):\n",
    "            for j in range(4):\n",
    "                error.append(E(j, t-1)[1])\n",
    "            sum_part += min(error)            \n",
    "        sigma = alpha*calc_sigma(alpha, t-1) + (1-alpha)*sum_part*0.25\n",
    "        return sigma"
   ]
  },
  {
   "cell_type": "code",
   "execution_count": 25,
   "metadata": {
    "collapsed": false
   },
   "outputs": [],
   "source": [
    "def response_selection(t, y_hat, y_desired):\n",
    "    sum_part = 0\n",
    "    for k in range(4):\n",
    "        sum_part += y_hat[k]*calc_lambda(k, t, delta)\n",
    "    return numpy.argmax(y_desired[t-1] + sum_part)"
   ]
  },
  {
   "cell_type": "code",
   "execution_count": 26,
   "metadata": {
    "collapsed": false
   },
   "outputs": [
    {
     "ename": "NameError",
     "evalue": "global name 'delta' is not defined",
     "output_type": "error",
     "traceback": [
      "\u001b[1;31m---------------------------------------------------------------------------\u001b[0m",
      "\u001b[1;31mNameError\u001b[0m                                 Traceback (most recent call last)",
      "\u001b[1;32m<ipython-input-26-de775cfea4b3>\u001b[0m in \u001b[0;36m<module>\u001b[1;34m()\u001b[0m\n\u001b[1;32m----> 1\u001b[1;33m \u001b[1;32mprint\u001b[0m \u001b[0mresponse_selection\u001b[0m\u001b[1;33m(\u001b[0m\u001b[0mt\u001b[0m\u001b[1;33m,\u001b[0m \u001b[0my_hat\u001b[0m\u001b[1;33m,\u001b[0m \u001b[0my_desired\u001b[0m\u001b[1;33m)\u001b[0m\u001b[1;33m\u001b[0m\u001b[0m\n\u001b[0m",
      "\u001b[1;32m<ipython-input-25-2d07a80fc373>\u001b[0m in \u001b[0;36mresponse_selection\u001b[1;34m(t, y_hat, y_desired)\u001b[0m\n\u001b[0;32m      2\u001b[0m     \u001b[0msum_part\u001b[0m \u001b[1;33m=\u001b[0m \u001b[1;36m0\u001b[0m\u001b[1;33m\u001b[0m\u001b[0m\n\u001b[0;32m      3\u001b[0m     \u001b[1;32mfor\u001b[0m \u001b[0mk\u001b[0m \u001b[1;32min\u001b[0m \u001b[0mrange\u001b[0m\u001b[1;33m(\u001b[0m\u001b[1;36m4\u001b[0m\u001b[1;33m)\u001b[0m\u001b[1;33m:\u001b[0m\u001b[1;33m\u001b[0m\u001b[0m\n\u001b[1;32m----> 4\u001b[1;33m         \u001b[0msum_part\u001b[0m \u001b[1;33m+=\u001b[0m \u001b[0my_hat\u001b[0m\u001b[1;33m[\u001b[0m\u001b[0mk\u001b[0m\u001b[1;33m]\u001b[0m\u001b[1;33m*\u001b[0m\u001b[0mcalc_lambda\u001b[0m\u001b[1;33m(\u001b[0m\u001b[0mk\u001b[0m\u001b[1;33m,\u001b[0m \u001b[0mt\u001b[0m\u001b[1;33m,\u001b[0m \u001b[0mdelta\u001b[0m\u001b[1;33m)\u001b[0m\u001b[1;33m\u001b[0m\u001b[0m\n\u001b[0m\u001b[0;32m      5\u001b[0m     \u001b[1;32mreturn\u001b[0m \u001b[0mnumpy\u001b[0m\u001b[1;33m.\u001b[0m\u001b[0margmax\u001b[0m\u001b[1;33m(\u001b[0m\u001b[0my_desired\u001b[0m\u001b[1;33m[\u001b[0m\u001b[0mt\u001b[0m\u001b[1;33m-\u001b[0m\u001b[1;36m1\u001b[0m\u001b[1;33m]\u001b[0m \u001b[1;33m+\u001b[0m \u001b[0msum_part\u001b[0m\u001b[1;33m)\u001b[0m\u001b[1;33m\u001b[0m\u001b[0m\n",
      "\u001b[1;31mNameError\u001b[0m: global name 'delta' is not defined"
     ]
    }
   ],
   "source": [
    "print response_selection(t, y_hat, y_desired)"
   ]
  }
 ],
 "metadata": {
  "kernelspec": {
   "display_name": "Python 2",
   "language": "python",
   "name": "python2"
  },
  "language_info": {
   "codemirror_mode": {
    "name": "ipython",
    "version": 2
   },
   "file_extension": ".py",
   "mimetype": "text/x-python",
   "name": "python",
   "nbconvert_exporter": "python",
   "pygments_lexer": "ipython2",
   "version": "2.7.11"
  }
 },
 "nbformat": 4,
 "nbformat_minor": 0
}
