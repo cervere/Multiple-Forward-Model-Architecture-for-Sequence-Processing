{
 "cells": [
  {
   "cell_type": "code",
   "execution_count": 117,
   "metadata": {
    "collapsed": true
   },
   "outputs": [],
   "source": [
    "import numpy\n",
    "import matplotlib"
   ]
  },
  {
   "cell_type": "code",
   "execution_count": 151,
   "metadata": {
    "collapsed": false
   },
   "outputs": [],
   "source": [
    "def get_weights_k(weights, k, t, y, y_hat, eta):\n",
    "    if t == 0:\n",
    "        return numpy.random.uniform(0, 1, (3, 5))\n",
    "    else:\n",
    "        temp = eta * calc_lambda(k, t, delta)*y_hat[k]*(1-y_hat[k])\n",
    "        return weights[k] + numpy.outer(temp, y)"
   ]
  },
  {
   "cell_type": "code",
   "execution_count": 152,
   "metadata": {
    "collapsed": true
   },
   "outputs": [],
   "source": [
    "def sigmoid(x):\n",
    "    sigmoid = 1/(1 + numpy.exp((-4 * x)))\n",
    "    return sigmoid"
   ]
  },
  {
   "cell_type": "code",
   "execution_count": 153,
   "metadata": {
    "collapsed": true
   },
   "outputs": [],
   "source": [
    "def seq_module(y, t, weights):\n",
    "    y_hat = sigmoid(numpy.dot(weights, y))\n",
    "    return (y_hat, t+1)"
   ]
  },
  {
   "cell_type": "markdown",
   "metadata": {},
   "source": [
    "Initializations"
   ]
  },
  {
   "cell_type": "code",
   "execution_count": 154,
   "metadata": {
    "collapsed": false
   },
   "outputs": [],
   "source": [
    "weights = numpy.random.uniform(-1, 1, (4, 3, 5))\n",
    "y = numpy.array([1, 0, 0, 0, 1])\n",
    "t = 0\n",
    "k = 4\n",
    "y_desired = numpy.array([[1, 0, 0], [0, 0, 1], [0, 1, 0]])\n",
    "alpha = 0.5\n",
    "delta = 4\n",
    "eta = 0.2"
   ]
  },
  {
   "cell_type": "code",
   "execution_count": 173,
   "metadata": {
    "collapsed": false
   },
   "outputs": [
    {
     "name": "stdout",
     "output_type": "stream",
     "text": [
      "[[ 0.99079865  0.60579309  0.69449058]\n",
      " [ 0.86963937  0.99521023  0.00436861]\n",
      " [ 0.18413001  0.96591188  0.02142735]\n",
      " [ 0.96767369  0.33416854  0.66374382]]\n"
     ]
    }
   ],
   "source": [
    "(y_hat, t) = seq_module(y, t, weights)\n",
    "print y_hat"
   ]
  },
  {
   "cell_type": "code",
   "execution_count": 174,
   "metadata": {
    "collapsed": false
   },
   "outputs": [],
   "source": [
    "def calc_lambda(k, t, delta):\n",
    "    p = calc_p(k, t)\n",
    "    p_k = 1\n",
    "    p_k_total = 1\n",
    "    p_total = 0\n",
    "    for i in range(delta):\n",
    "        p_k *= calc_p(k, t-i)\n",
    "    for i in range(4):\n",
    "        for j in range(delta):\n",
    "            p_k_total *= calc_p(i, t-j) \n",
    "        p_total += p_k_total\n",
    "    lambda_k = p_k/p_total\n",
    "    return lambda_k"
   ]
  },
  {
   "cell_type": "code",
   "execution_count": 175,
   "metadata": {
    "collapsed": true
   },
   "outputs": [],
   "source": [
    "def calc_p(k, t):\n",
    "    if t <= 0:\n",
    "        return 0.25\n",
    "    else:\n",
    "        return numpy.exp(-E(k, t)[1]/calc_sigma(alpha, t)**2)"
   ]
  },
  {
   "cell_type": "code",
   "execution_count": 176,
   "metadata": {
    "collapsed": true
   },
   "outputs": [],
   "source": [
    "def E(k, t):\n",
    "    error = y_desired[t-1] - y_hat[k]\n",
    "    error_sum = (0.5) * (numpy.sum(error)**2)\n",
    "    return (error, error_sum)"
   ]
  },
  {
   "cell_type": "code",
   "execution_count": 177,
   "metadata": {
    "collapsed": false
   },
   "outputs": [],
   "source": [
    "def calc_sigma(alpha, t):\n",
    "    error = list()\n",
    "    sum_part = 0\n",
    "    if t == 0:\n",
    "        return 3\n",
    "    else:\n",
    "        for i in range(4):\n",
    "            for j in range(4):\n",
    "                error.append(E(j, t-1)[1])\n",
    "            sum_part += min(error)            \n",
    "        sigma = alpha*calc_sigma(alpha, t-1) + (1-alpha)*sum_part*0.25\n",
    "        return sigma"
   ]
  },
  {
   "cell_type": "code",
   "execution_count": 178,
   "metadata": {
    "collapsed": false
   },
   "outputs": [],
   "source": [
    "def response_selection(t, y_hat, y_desired):\n",
    "    sum_part = 0\n",
    "    for k in range(4):\n",
    "        sum_part += y_hat[k]*calc_lambda(k, t, delta)\n",
    "    return numpy.argmax(y_desired[t-1] + sum_part)"
   ]
  },
  {
   "cell_type": "code",
   "execution_count": 179,
   "metadata": {
    "collapsed": false
   },
   "outputs": [
    {
     "name": "stdout",
     "output_type": "stream",
     "text": [
      "1\n"
     ]
    }
   ],
   "source": [
    "response = response_selection(t, y_hat, y_desired)\n",
    "y = numpy.array([1, 0, 0, 0, 0])\n",
    "y[response + 1] = 1\n",
    "print response"
   ]
  },
  {
   "cell_type": "code",
   "execution_count": 180,
   "metadata": {
    "collapsed": false
   },
   "outputs": [],
   "source": [
    "weight_vec = list()\n",
    "for i in range(k):\n",
    "    weight_vec.append(get_weights_k(weights, i, t, y, y_hat, eta))"
   ]
  },
  {
   "cell_type": "code",
   "execution_count": 181,
   "metadata": {
    "collapsed": false
   },
   "outputs": [],
   "source": [
    "weights = numpy.array(weight_vec)\n"
   ]
  },
  {
   "cell_type": "code",
   "execution_count": null,
   "metadata": {
    "collapsed": true
   },
   "outputs": [],
   "source": []
  }
 ],
 "metadata": {
  "kernelspec": {
   "display_name": "Python 2",
   "language": "python",
   "name": "python2"
  },
  "language_info": {
   "codemirror_mode": {
    "name": "ipython",
    "version": 2
   },
   "file_extension": ".py",
   "mimetype": "text/x-python",
   "name": "python",
   "nbconvert_exporter": "python",
   "pygments_lexer": "ipython2",
   "version": "2.7.11"
  }
 },
 "nbformat": 4,
 "nbformat_minor": 0
}
