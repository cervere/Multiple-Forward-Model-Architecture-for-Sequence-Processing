{
 "cells": [
  {
   "cell_type": "code",
   "execution_count": 1,
   "metadata": {
    "collapsed": true
   },
   "outputs": [],
   "source": [
    "import numpy\n",
    "import matplotlib"
   ]
  },
  {
   "cell_type": "code",
   "execution_count": 2,
   "metadata": {
    "collapsed": true
   },
   "outputs": [],
   "source": [
    "def sigmoid(x):\n",
    "    sigmoid = 1/(1 + numpy.exp((-4 * x)))\n",
    "    return sigmoid"
   ]
  },
  {
   "cell_type": "code",
   "execution_count": 3,
   "metadata": {
    "collapsed": true
   },
   "outputs": [],
   "source": [
    "def seq_module(y, t, weights):\n",
    "    y = numpy.insert(y, 0, 1)\n",
    "    y = numpy.insert(y, 4, 1)\n",
    "    y = sigmoid(numpy.dot(weights, y))\n",
    "    return (y, t+1)"
   ]
  },
  {
   "cell_type": "markdown",
   "metadata": {},
   "source": [
    "Initializations"
   ]
  },
  {
   "cell_type": "code",
   "execution_count": 51,
   "metadata": {
    "collapsed": false
   },
   "outputs": [],
   "source": [
    "weights = numpy.random.uniform(-1, 1, (4, 3, 5))\n",
    "y = numpy.array([0, 0, 0])\n",
    "t = 0\n",
    "y_desired = numpy.array([[1, 0, 0], [0, 0, 1], [0, 1, 0]])\n",
    "alpha = 0.5"
   ]
  },
  {
   "cell_type": "code",
   "execution_count": 70,
   "metadata": {
    "collapsed": false
   },
   "outputs": [
    {
     "name": "stdout",
     "output_type": "stream",
     "text": [
      "[[ 0.00854165  0.05732403  0.01584338]\n",
      " [ 0.98757285  0.95047964  0.8755662 ]\n",
      " [ 0.0592867   0.98913628  0.04201982]\n",
      " [ 0.98926123  0.9967066   0.54928014]]\n"
     ]
    }
   ],
   "source": [
    "(y_hat, t) = seq_module(y, t, weights)\n",
    "print y_hat"
   ]
  },
  {
   "cell_type": "code",
   "execution_count": 71,
   "metadata": {
    "collapsed": false
   },
   "outputs": [],
   "source": [
    "def calc_lambda(k, t, delta):\n",
    "    p = calc_p(k, t)\n",
    "    p_k = 1\n",
    "    p_k_total = 1\n",
    "    p_total = 0\n",
    "    for i in range(delta):\n",
    "        p_k *= calc_p(k, t-delta)\n",
    "    for i in range(4):\n",
    "        for j in range(delta):\n",
    "            p_k_total *= calc_p(j, t-delta) \n",
    "        p_total += p_k_total\n",
    "    lambda_k = p_k/p_total\n",
    "    return lambda_k"
   ]
  },
  {
   "cell_type": "code",
   "execution_count": 72,
   "metadata": {
    "collapsed": true
   },
   "outputs": [],
   "source": [
    "def calc_p(k, t):\n",
    "    if t <= 0:\n",
    "        return 0.25\n",
    "    else:\n",
    "        return numpy.exp(-E(k, t)/calc_sigma(alpha, t)**2)"
   ]
  },
  {
   "cell_type": "code",
   "execution_count": 73,
   "metadata": {
    "collapsed": true
   },
   "outputs": [],
   "source": [
    "def E(k, t):\n",
    "    error = y_desired[t] - y_hat[k]\n",
    "    error = (0.5) * (numpy.sum(error)**2)\n",
    "    return error"
   ]
  },
  {
   "cell_type": "code",
   "execution_count": 74,
   "metadata": {
    "collapsed": false
   },
   "outputs": [],
   "source": [
    "def calc_sigma(alpha, t):\n",
    "    error = list()\n",
    "    sum_part = 0\n",
    "    if t == 0:\n",
    "        return 3\n",
    "    else:\n",
    "        for i in range(4):\n",
    "            for j in range(4):\n",
    "                error.append(E(j, t-1))\n",
    "            sum_part += min(error)            \n",
    "        sigma = alpha*calc_sigma(alpha, t-1) + (1-alpha)*sum_part*0.25\n",
    "        return sigma"
   ]
  },
  {
   "cell_type": "code",
   "execution_count": 75,
   "metadata": {
    "collapsed": false
   },
   "outputs": [
    {
     "name": "stdout",
     "output_type": "stream",
     "text": [
      "0.593125351439\n"
     ]
    }
   ],
   "source": [
    "def response_selection(t, y_hat)"
   ]
  },
  {
   "cell_type": "code",
   "execution_count": null,
   "metadata": {
    "collapsed": true
   },
   "outputs": [],
   "source": []
  }
 ],
 "metadata": {
  "kernelspec": {
   "display_name": "Python 2",
   "language": "python",
   "name": "python2"
  },
  "language_info": {
   "codemirror_mode": {
    "name": "ipython",
    "version": 2
   },
   "file_extension": ".py",
   "mimetype": "text/x-python",
   "name": "python",
   "nbconvert_exporter": "python",
   "pygments_lexer": "ipython2",
   "version": "2.7.11"
  }
 },
 "nbformat": 4,
 "nbformat_minor": 0
}
